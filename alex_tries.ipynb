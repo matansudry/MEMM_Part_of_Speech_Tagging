{
 "cells": [
  {
   "cell_type": "code",
   "execution_count": 1,
   "metadata": {},
   "outputs": [],
   "source": [
    "import numpy as np\n",
    "import pandas as pd\n",
    "from utils import preprocess, features, classifier"
   ]
  },
  {
   "cell_type": "code",
   "execution_count": 2,
   "metadata": {},
   "outputs": [],
   "source": [
    "comp1_path = 'data/comp1.words'\n",
    "comp2_path = 'data/comp2.words'\n",
    "test1_path = 'data/test1.wtag'\n",
    "train1_path = 'data/train1.wtag'\n",
    "train2_path = 'data/train2.wtag'"
   ]
  },
  {
   "cell_type": "markdown",
   "metadata": {},
   "source": [
    "## Create FeatureGroup params"
   ]
  },
  {
   "cell_type": "code",
   "execution_count": 3,
   "metadata": {},
   "outputs": [],
   "source": [
    "group_thresholds = {\n",
    "    lambda t2, t1, w, i, t: tuple([t2, t1, t]):                               1,\n",
    "    lambda t2, t1, w, i, t: tuple([t1, t]):                                   1,\n",
    "    lambda t2, t1, w, i, t: tuple([w[i].lower(), t]):                         None,\n",
    "#     lambda t2, t1, w, i, t: tuple([w[i-1].lower(), t]):                       5,\n",
    "#     lambda t2, t1, w, i, t: tuple([w[i+1].lower(), t]):                       5,\n",
    "    lambda t2, t1, w, i, t: tuple([w[i][:3].lower(), t]):                     5,\n",
    "    lambda t2, t1, w, i, t: tuple([w[i][:2].lower(), t]):                     5,\n",
    "#     lambda t2, t1, w, i, t: tuple([w[i+1][:3].lower(), t]):                   5,\n",
    "#     lambda t2, t1, w, i, t: tuple([w[i-1][:3].lower(), t]):                   5,\n",
    "    lambda t2, t1, w, i, t: tuple([w[i][-3:].lower(), t]):                    5,\n",
    "    lambda t2, t1, w, i, t: tuple([w[i][-2:].lower(), t]):                    5,\n",
    "#     lambda t2, t1, w, i, t: tuple([w[i+1][-3:].lower(), t]):                  5,\n",
    "#     lambda t2, t1, w, i, t: tuple([w[i-1][-3:].lower(), t]):                  5,\n",
    "    lambda t2, t1, w, i, t: tuple([w[i].isalnum(), t]):                       1,\n",
    "    lambda t2, t1, w, i, t: tuple([w[i].isalpha(), t]):                       1,\n",
    "    lambda t2, t1, w, i, t: tuple([w[i].isascii(), t]):                       1,\n",
    "    lambda t2, t1, w, i, t: tuple([w[i].isdecimal(), t]):                     1,\n",
    "    lambda t2, t1, w, i, t: tuple([w[i].isdigit(), t]):                       1,\n",
    "    lambda t2, t1, w, i, t: tuple([w[i].islower(), t]):                       1,\n",
    "    lambda t2, t1, w, i, t: tuple([w[i].isnumeric(), t]):                     1,\n",
    "    lambda t2, t1, w, i, t: tuple([w[i].istitle(), t]):                       1,\n",
    "    lambda t2, t1, w, i, t: tuple([w[i].isupper(), t]):                       1,\n",
    "    lambda t2, t1, w, i, t: tuple([len(w[i]) == 1, t]):                       1,\n",
    "    lambda t2, t1, w, i, t: tuple([len(w[i]) == 2, t]):                       1,\n",
    "    lambda t2, t1, w, i, t: tuple([len(w[i]) == 3, t]):                       1,\n",
    "    lambda t2, t1, w, i, t: tuple([w[i][0].islower(), t]):                    1,\n",
    "    lambda t2, t1, w, i, t: tuple([any(char.isdigit() for char in w[i]), t]): 1,\n",
    "    lambda t2, t1, w, i, t: tuple([any(char.isupper() for char in w[i]), t]): 1,\n",
    "}"
   ]
  },
  {
   "cell_type": "code",
   "execution_count": 4,
   "metadata": {},
   "outputs": [
    {
     "name": "stdout",
     "output_type": "stream",
     "text": [
      "CPU times: user 1.58 s, sys: 15.6 ms, total: 1.59 s\n",
      "Wall time: 1.6 s\n"
     ]
    }
   ],
   "source": [
    "%%time\n",
    "train_dataset = preprocess.Dataset(train1_path)\n",
    "val_dataset = preprocess.Dataset(test1_path)\n",
    "feature_vector = features.create_feature_vector(train_dataset,\n",
    "                                                group_thresholds=group_thresholds,\n",
    "                                                pruning=True,\n",
    "                                                get_stats=False,\n",
    "                                                assertions=True,\n",
    "                                                calls_counter=False)"
   ]
  },
  {
   "cell_type": "code",
   "execution_count": null,
   "metadata": {},
   "outputs": [
    {
     "name": "stdout",
     "output_type": "stream",
     "text": [
      "epoch   1/20 | train_loss 90.405339 | val_loss 88.630786 | train_score nan | val_score nan | train_time   0.76 min\n",
      "epoch   2/20 | train_loss 87.421641 | val_loss 86.303629 | train_score nan | val_score nan | train_time   1.52 min\n",
      "epoch   3/20 | train_loss 79.373145 | val_loss 78.024959 | train_score nan | val_score nan | train_time   2.25 min\n",
      "epoch   4/20 | train_loss 82.223725 | val_loss 76.398224 | train_score nan | val_score nan | train_time   3.02 min\n",
      "epoch   5/20 | train_loss 54.649508 | val_loss 69.398415 | train_score nan | val_score nan | train_time   3.67 min\n"
     ]
    }
   ],
   "source": [
    "w0 = np.random.rand(len(feature_vector)).astype(np.float32)/20\n",
    "seed = 42\n",
    "models_path = 'models'\n",
    "version = 2\n",
    "save = True\n",
    "load = False\n",
    "train = True\n",
    "beam = 10\n",
    "train_aprox = 0\n",
    "val_aprox = 0\n",
    "weight_decay = 1e-5\n",
    "batch_size = 512\n",
    "epochs = 20\n",
    "tqdm_bar = False\n",
    "\n",
    "\n",
    "if load:\n",
    "    model = classifier.load_model(version, models_path, epoch=-1, seed=42, prints=True)\n",
    "else:\n",
    "    model = classifier.Model(version=version,\n",
    "                             w0=w0,\n",
    "                             tags=train_dataset.tags,\n",
    "                             inference=classifier.viterbi,\n",
    "                             feature_vector=feature_vector,\n",
    "                             seed=seed,\n",
    "                             score_func=classifier.accuracy,\n",
    "                             models_path=models_path,\n",
    "                             save=save)\n",
    "\n",
    "if train:\n",
    "    v_min, f_min, d_min = model.train(epochs=epochs,\n",
    "                                      train_dataset=train_dataset,\n",
    "                                      val_dataset=val_dataset,\n",
    "                                      batch_size=batch_size,\n",
    "                                      weight_decay=weight_decay,\n",
    "                                      iprint=-1,\n",
    "                                      save=save,\n",
    "                                      tqdm_bar=tqdm_bar,\n",
    "                                      beam=beam,\n",
    "                                      train_aprox=train_aprox,\n",
    "                                      val_aprox=val_aprox)"
   ]
  },
  {
   "cell_type": "code",
   "execution_count": null,
   "metadata": {},
   "outputs": [],
   "source": []
  },
  {
   "cell_type": "code",
   "execution_count": null,
   "metadata": {},
   "outputs": [],
   "source": []
  },
  {
   "cell_type": "code",
   "execution_count": null,
   "metadata": {},
   "outputs": [],
   "source": []
  },
  {
   "cell_type": "code",
   "execution_count": null,
   "metadata": {},
   "outputs": [],
   "source": []
  },
  {
   "cell_type": "code",
   "execution_count": null,
   "metadata": {},
   "outputs": [],
   "source": []
  },
  {
   "cell_type": "code",
   "execution_count": null,
   "metadata": {},
   "outputs": [],
   "source": []
  },
  {
   "cell_type": "code",
   "execution_count": null,
   "metadata": {},
   "outputs": [],
   "source": [
    "# pred_tags, true_tags = model.predict(val_dataset.sentences[:50], beam, True)\n",
    "# score = model.score_func(pred_tags, true_tags)\n",
    "# print(score)"
   ]
  },
  {
   "cell_type": "code",
   "execution_count": 6,
   "metadata": {},
   "outputs": [],
   "source": [
    "sentences = {}\n",
    "for sentence in train_dataset.sentences:\n",
    "    sentences[len(sentence[0])] = sentence"
   ]
  },
  {
   "cell_type": "code",
   "execution_count": 7,
   "metadata": {},
   "outputs": [],
   "source": [
    "tags = classifier.viterbi(model, sentences[5][0], beam=10)"
   ]
  },
  {
   "cell_type": "code",
   "execution_count": 8,
   "metadata": {},
   "outputs": [
    {
     "name": "stdout",
     "output_type": "stream",
     "text": [
      "['Terms', 'were', \"n't\", 'disclosed', '.']\n",
      "['NNS', 'VBD', 'RB', 'VBN', '.']\n",
      "['TO', 'DT', 'NN', 'VBG', 'NN']\n"
     ]
    }
   ],
   "source": [
    "print(sentences[5][0])\n",
    "print(sentences[5][1])\n",
    "print(tags)"
   ]
  },
  {
   "cell_type": "code",
   "execution_count": null,
   "metadata": {},
   "outputs": [],
   "source": []
  },
  {
   "cell_type": "code",
   "execution_count": 5,
   "metadata": {},
   "outputs": [
    {
     "name": "stdout",
     "output_type": "stream",
     "text": [
      "feat_group: FeatureGroup(tuple([t2, t1, t])) | feats: 5192\n",
      "feat_group: FeatureGroup(tuple([t1, t])) | feats: 908\n",
      "feat_group: FeatureGroup(tuple([w[i].lower(), t])) | feats: 14719\n",
      "feat_group: FeatureGroup(tuple([w[i][:3].lower(), t])) | feats: 2431\n",
      "feat_group: FeatureGroup(tuple([w[i][:2].lower(), t])) | feats: 1432\n",
      "feat_group: FeatureGroup(tuple([w[i][-3:].lower(), t])) | feats: 1757\n",
      "feat_group: FeatureGroup(tuple([w[i][-2:].lower(), t])) | feats: 955\n",
      "feat_group: FeatureGroup(tuple([w[i].isalnum(), t])) | feats: 60\n",
      "feat_group: FeatureGroup(tuple([w[i].isalpha(), t])) | feats: 60\n",
      "feat_group: FeatureGroup(tuple([w[i].isascii(), t])) | feats: 44\n",
      "feat_group: FeatureGroup(tuple([w[i].isdecimal(), t])) | feats: 45\n",
      "feat_group: FeatureGroup(tuple([w[i].isdigit(), t])) | feats: 45\n",
      "feat_group: FeatureGroup(tuple([w[i].islower(), t])) | feats: 75\n",
      "feat_group: FeatureGroup(tuple([w[i].isnumeric(), t])) | feats: 45\n",
      "feat_group: FeatureGroup(tuple([w[i].istitle(), t])) | feats: 76\n",
      "feat_group: FeatureGroup(tuple([w[i].isupper(), t])) | feats: 56\n",
      "feat_group: FeatureGroup(tuple([len(w[i]) == 1, t])) | feats: 56\n",
      "feat_group: FeatureGroup(tuple([len(w[i]) == 2, t])) | feats: 66\n",
      "feat_group: FeatureGroup(tuple([len(w[i]) == 3, t])) | feats: 69\n",
      "feat_group: FeatureGroup(tuple([w[i][0].islower(), t])) | feats: 74\n",
      "feat_group: FeatureGroup(tuple([any(char.isdigit() for char in w[i]), t])) | feats: 49\n",
      "feat_group: FeatureGroup(tuple([any(char.isupper() for char in w[i]), t])) | feats: 75\n",
      "feat_groups: 22 | total_feats: 28289\n"
     ]
    }
   ],
   "source": [
    "for feat in feature_vector.feats:\n",
    "    print('feat_group:', feat, '| feats:', len(feat))\n",
    "print('feat_groups:', len(feature_vector.feats), '| total_feats:', len(feature_vector))"
   ]
  },
  {
   "cell_type": "code",
   "execution_count": 6,
   "metadata": {},
   "outputs": [],
   "source": [
    "# # test run train_dataset\n",
    "# tic = time.time()\n",
    "# for t2, t1, w, i, t in train_dataset:\n",
    "#     feat_vec_t = feature_vector(t2, t1, w, i, t, fmt='vec')\n",
    "# print('fmt=vec: {:.3f} sec'.format(time.time() - tic))\n",
    "\n",
    "# tic = time.time()\n",
    "# for t2, t1, w, i, t in train_dataset:\n",
    "#     feat_list_t = feature_vector(t2, t1, w, i, t, fmt='list')\n",
    "# print('fmt=list: {:.3f} sec'.format(time.time() - tic))\n",
    "\n",
    "# tic = time.time()\n",
    "# for t2, t1, w, i, t in train_dataset:\n",
    "#     feat_vec_t, feat_list_t = feature_vector(t2, t1, w, i, t, fmt='both')\n",
    "# print('fmt=vec+list: {:.3f} sec'.format(time.time() - tic))"
   ]
  },
  {
   "cell_type": "code",
   "execution_count": null,
   "metadata": {},
   "outputs": [],
   "source": [
    "# for tag in train1_statistics.words_per_tag:\n",
    "#     if len(train1_statistics.words_per_tag[tag]) < 10:\n",
    "#         print('{:5} tf: {:5d} unique_count: {:4d} words: {}'.format(tag, train1_statistics.tags_count[tag], len(train1_statistics.words_per_tag[tag]),\n",
    "#                                                                     train1_statistics.words_per_tag[tag]))\n",
    "#     else:\n",
    "#         print('{:5} tf: {:5d} unique_count: {:4d}'.format(tag, train1_statistics.tags_count[tag], len(train1_statistics.words_per_tag[tag])))"
   ]
  },
  {
   "cell_type": "code",
   "execution_count": null,
   "metadata": {},
   "outputs": [],
   "source": [
    "# features = []\n",
    "\n",
    "# # one-to-one features\n",
    "# for word in strange_words:\n",
    "#     features.append(Feature(f'w[i] == \"{word}\"', t=train1_model.tags_per_word[word][0]))\n",
    "#     print(word, train1_model.WordCount[word], train1_model.TagsPerWord[word])"
   ]
  },
  {
   "cell_type": "code",
   "execution_count": null,
   "metadata": {},
   "outputs": [],
   "source": []
  }
 ],
 "metadata": {
  "kernelspec": {
   "display_name": "nlp_hw1",
   "language": "python",
   "name": "nlp_hw1"
  },
  "language_info": {
   "codemirror_mode": {
    "name": "ipython",
    "version": 3
   },
   "file_extension": ".py",
   "mimetype": "text/x-python",
   "name": "python",
   "nbconvert_exporter": "python",
   "pygments_lexer": "ipython3",
   "version": "3.7.4"
  }
 },
 "nbformat": 4,
 "nbformat_minor": 4
}
