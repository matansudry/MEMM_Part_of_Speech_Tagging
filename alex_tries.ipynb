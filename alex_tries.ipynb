{
 "cells": [
  {
   "cell_type": "code",
   "execution_count": 1,
   "metadata": {},
   "outputs": [],
   "source": [
    "import numpy as np\n",
    "import pandas as pd\n",
    "from utils import preprocess, features, classifier"
   ]
  },
  {
   "cell_type": "code",
   "execution_count": 2,
   "metadata": {},
   "outputs": [],
   "source": [
    "comp1_path = 'data/comp1.words'\n",
    "comp2_path = 'data/comp2.words'\n",
    "test1_path = 'data/test1.wtag'\n",
    "train1_path = 'data/train1.wtag'\n",
    "train2_path = 'data/train2.wtag'"
   ]
  },
  {
   "cell_type": "markdown",
   "metadata": {},
   "source": [
    "## Create FeatureGroup params"
   ]
  },
  {
   "cell_type": "code",
   "execution_count": 3,
   "metadata": {},
   "outputs": [],
   "source": [
    "group_thresholds = {\n",
    "    lambda t2, t1, w, i, t: tuple([t2, t1, t]):                               1,\n",
    "    lambda t2, t1, w, i, t: tuple([t1, t]):                                   1,\n",
    "    lambda t2, t1, w, i, t: tuple([w[i].lower(), t]):                         None,\n",
    "#     lambda t2, t1, w, i, t: tuple([w[i-1].lower(), t]):                       5,\n",
    "#     lambda t2, t1, w, i, t: tuple([w[i+1].lower(), t]):                       5,\n",
    "    lambda t2, t1, w, i, t: tuple([w[i][:3].lower(), t]):                     5,\n",
    "    lambda t2, t1, w, i, t: tuple([w[i][:2].lower(), t]):                     5,\n",
    "#     lambda t2, t1, w, i, t: tuple([w[i+1][:3].lower(), t]):                   5,\n",
    "#     lambda t2, t1, w, i, t: tuple([w[i-1][:3].lower(), t]):                   5,\n",
    "    lambda t2, t1, w, i, t: tuple([w[i][-3:].lower(), t]):                    5,\n",
    "    lambda t2, t1, w, i, t: tuple([w[i][-2:].lower(), t]):                    5,\n",
    "#     lambda t2, t1, w, i, t: tuple([w[i+1][-3:].lower(), t]):                  5,\n",
    "#     lambda t2, t1, w, i, t: tuple([w[i-1][-3:].lower(), t]):                  5,\n",
    "    lambda t2, t1, w, i, t: tuple([w[i].isalnum(), t]):                       1,\n",
    "    lambda t2, t1, w, i, t: tuple([w[i].isalpha(), t]):                       1,\n",
    "    lambda t2, t1, w, i, t: tuple([w[i].isascii(), t]):                       1,\n",
    "    lambda t2, t1, w, i, t: tuple([w[i].isdecimal(), t]):                     1,\n",
    "    lambda t2, t1, w, i, t: tuple([w[i].isdigit(), t]):                       1,\n",
    "    lambda t2, t1, w, i, t: tuple([w[i].islower(), t]):                       1,\n",
    "    lambda t2, t1, w, i, t: tuple([w[i].isnumeric(), t]):                     1,\n",
    "    lambda t2, t1, w, i, t: tuple([w[i].istitle(), t]):                       1,\n",
    "    lambda t2, t1, w, i, t: tuple([w[i].isupper(), t]):                       1,\n",
    "    lambda t2, t1, w, i, t: tuple([len(w[i]) == 1, t]):                       1,\n",
    "    lambda t2, t1, w, i, t: tuple([len(w[i]) == 2, t]):                       1,\n",
    "    lambda t2, t1, w, i, t: tuple([len(w[i]) == 3, t]):                       1,\n",
    "    lambda t2, t1, w, i, t: tuple([w[i][0].islower(), t]):                    1,\n",
    "    lambda t2, t1, w, i, t: tuple([any(char.isdigit() for char in w[i]), t]): 1,\n",
    "    lambda t2, t1, w, i, t: tuple([any(char.isupper() for char in w[i]), t]): 1,\n",
    "}"
   ]
  },
  {
   "cell_type": "code",
   "execution_count": 4,
   "metadata": {},
   "outputs": [
    {
     "name": "stdout",
     "output_type": "stream",
     "text": [
      "CPU times: user 1.59 s, sys: 31.2 ms, total: 1.62 s\n",
      "Wall time: 1.64 s\n"
     ]
    }
   ],
   "source": [
    "%%time\n",
    "train_dataset = preprocess.Dataset(train1_path)\n",
    "val_dataset = preprocess.Dataset(test1_path)\n",
    "feature_vector = features.create_feature_vector(train_dataset,\n",
    "                                                group_thresholds=group_thresholds,\n",
    "                                                pruning=True,\n",
    "                                                get_stats=False,\n",
    "                                                assertions=True,\n",
    "                                                calls_counter=False)"
   ]
  },
  {
   "cell_type": "code",
   "execution_count": 6,
   "metadata": {},
   "outputs": [
    {
     "name": "stdout",
     "output_type": "stream",
     "text": [
      "model version: beam-50_train_aprox-0_val_aprox-0_weight_decay-1_batch_size-5000_max_epochs-50\n",
      "epochs: 23\n",
      "train_time: 160.301\n",
      "\n",
      "last train_loss: 54.828313\n",
      "last val_loss: 56.020626\n",
      "last train_score: nan\n",
      "last val_score: nan\n",
      "best val_score: nan at epoch 0\n"
     ]
    }
   ],
   "source": [
    "w0 = np.random.rand(len(feature_vector)).astype(np.float32)/20\n",
    "seed = 42\n",
    "models_path = 'models'\n",
    "save = True\n",
    "load = True\n",
    "train = False\n",
    "beam = 50\n",
    "train_aprox = 0\n",
    "val_aprox = 0\n",
    "weight_decay = 1\n",
    "batch_size = 5000\n",
    "epochs = 50\n",
    "tqdm_bar = False\n",
    "version = f\"beam-{beam}_train_aprox-{train_aprox}_val_aprox-{val_aprox}_\" + \\\n",
    "          f\"weight_decay-{weight_decay}_batch_size-{batch_size}_max_epochs-{epochs}\"\n",
    "\n",
    "\n",
    "if load:\n",
    "    model = classifier.load_model(version, models_path, epoch=-1, seed=42, prints=True)\n",
    "else:\n",
    "    model = classifier.Model(version=version,\n",
    "                             w0=w0,\n",
    "                             tags=train_dataset.tags,\n",
    "                             inference=classifier.viterbi,\n",
    "                             feature_vector=feature_vector,\n",
    "                             seed=seed,\n",
    "                             score_func=classifier.accuracy,\n",
    "                             models_path=models_path,\n",
    "                             save=save)\n",
    "\n",
    "if train:\n",
    "    v_min, f_min, d_min = model.train(epochs=epochs,\n",
    "                                      train_dataset=train_dataset,\n",
    "                                      val_dataset=val_dataset,\n",
    "                                      batch_size=batch_size,\n",
    "                                      weight_decay=weight_decay,\n",
    "                                      iprint=-1,\n",
    "                                      save=save,\n",
    "                                      tqdm_bar=tqdm_bar,\n",
    "                                      beam=beam,\n",
    "                                      train_aprox=train_aprox,\n",
    "                                      val_aprox=val_aprox)"
   ]
  },
  {
   "cell_type": "code",
   "execution_count": null,
   "metadata": {},
   "outputs": [],
   "source": []
  },
  {
   "cell_type": "code",
   "execution_count": null,
   "metadata": {},
   "outputs": [],
   "source": []
  },
  {
   "cell_type": "code",
   "execution_count": 24,
   "metadata": {},
   "outputs": [],
   "source": [
    "def accuracy(pred_tags, true_tags):\n",
    "    correct = 0\n",
    "    total = 0\n",
    "    for preds, tags in zip(pred_tags, true_tags):\n",
    "        for pred, tag in zip(preds, tags):\n",
    "            total += 1\n",
    "            if pred == tag:\n",
    "                correct += 1\n",
    "    return float(correct)/total"
   ]
  },
  {
   "cell_type": "code",
   "execution_count": null,
   "metadata": {},
   "outputs": [
    {
     "name": "stderr",
     "output_type": "stream",
     "text": [
      " 18%|█▊        | 9/50 [05:01<23:44, 34.74s/it]"
     ]
    }
   ],
   "source": [
    "i = 50\n",
    "beam = 50\n",
    "\n",
    "pred_tags_50, true_tags_50 = model.predict(val_dataset.sentences[:i], beam, True)"
   ]
  },
  {
   "cell_type": "code",
   "execution_count": null,
   "metadata": {},
   "outputs": [],
   "source": [
    "score = model.score_func(pred_tags_50, true_tags_50)\n",
    "print(score)"
   ]
  },
  {
   "cell_type": "code",
   "execution_count": 11,
   "metadata": {},
   "outputs": [
    {
     "name": "stderr",
     "output_type": "stream",
     "text": [
      "100%|██████████| 50/50 [05:31<00:00,  6.63s/it]"
     ]
    },
    {
     "name": "stdout",
     "output_type": "stream",
     "text": [
      "0.0\n"
     ]
    },
    {
     "name": "stderr",
     "output_type": "stream",
     "text": [
      "\n"
     ]
    }
   ],
   "source": [
    "i = 50\n",
    "beam = 10\n",
    "\n",
    "pred_tags_10, true_tags_10 = model.predict(val_dataset.sentences[:i], beam, True)"
   ]
  },
  {
   "cell_type": "code",
   "execution_count": 28,
   "metadata": {},
   "outputs": [
    {
     "name": "stdout",
     "output_type": "stream",
     "text": [
      "0.0838272650296359\n"
     ]
    }
   ],
   "source": [
    "score = model.score_func(pred_tags_10, true_tags_10)\n",
    "print(score)"
   ]
  },
  {
   "cell_type": "code",
   "execution_count": 25,
   "metadata": {},
   "outputs": [],
   "source": [
    "model.score_func = accuracy"
   ]
  },
  {
   "cell_type": "code",
   "execution_count": 16,
   "metadata": {},
   "outputs": [
    {
     "name": "stdout",
     "output_type": "stream",
     "text": [
      "0.0\n"
     ]
    }
   ],
   "source": [
    "print(float(score))"
   ]
  },
  {
   "cell_type": "code",
   "execution_count": null,
   "metadata": {},
   "outputs": [],
   "source": []
  },
  {
   "cell_type": "code",
   "execution_count": null,
   "metadata": {},
   "outputs": [],
   "source": []
  },
  {
   "cell_type": "code",
   "execution_count": null,
   "metadata": {},
   "outputs": [],
   "source": []
  },
  {
   "cell_type": "code",
   "execution_count": 8,
   "metadata": {},
   "outputs": [],
   "source": [
    "sentences = {}\n",
    "for sentence in train_dataset.sentences:\n",
    "    sentences[len(sentence[0])] = sentence"
   ]
  },
  {
   "cell_type": "code",
   "execution_count": 31,
   "metadata": {},
   "outputs": [
    {
     "name": "stdout",
     "output_type": "stream",
     "text": [
      "['``', 'It', 'does', \"n't\", 'appear', 'to', 'be', 'getting', 'worse', '.']\n",
      "['``', 'PRP', 'VBZ', 'RB', 'VB', 'TO', 'VB', 'VBG', 'RBR', '.']\n",
      "['NNP', 'FW', 'NN', 'VBZ', 'NNP', '$', '$', '$', '$', '$']\n"
     ]
    }
   ],
   "source": [
    "i = 10\n",
    "tags = classifier.viterbi(model, sentences[i][0], beam=beam)\n",
    "print(sentences[i][0])\n",
    "print(sentences[i][1])\n",
    "print(tags)"
   ]
  },
  {
   "cell_type": "code",
   "execution_count": 28,
   "metadata": {},
   "outputs": [
    {
     "name": "stdout",
     "output_type": "stream",
     "text": [
      "['What', 'happened', '?']\n",
      "['WP', 'VBD', '.']\n",
      "['NNP', 'FW', 'NN']\n"
     ]
    }
   ],
   "source": [
    "print(sentences[i][0])\n",
    "print(sentences[i][1])\n",
    "print(tags)"
   ]
  },
  {
   "cell_type": "code",
   "execution_count": null,
   "metadata": {},
   "outputs": [],
   "source": []
  },
  {
   "cell_type": "code",
   "execution_count": 5,
   "metadata": {},
   "outputs": [
    {
     "name": "stdout",
     "output_type": "stream",
     "text": [
      "feat_group: FeatureGroup(tuple([t2, t1, t])) | feats: 5192\n",
      "feat_group: FeatureGroup(tuple([t1, t])) | feats: 908\n",
      "feat_group: FeatureGroup(tuple([w[i].lower(), t])) | feats: 14719\n",
      "feat_group: FeatureGroup(tuple([w[i][:3].lower(), t])) | feats: 2431\n",
      "feat_group: FeatureGroup(tuple([w[i][:2].lower(), t])) | feats: 1432\n",
      "feat_group: FeatureGroup(tuple([w[i][-3:].lower(), t])) | feats: 1757\n",
      "feat_group: FeatureGroup(tuple([w[i][-2:].lower(), t])) | feats: 955\n",
      "feat_group: FeatureGroup(tuple([w[i].isalnum(), t])) | feats: 60\n",
      "feat_group: FeatureGroup(tuple([w[i].isalpha(), t])) | feats: 60\n",
      "feat_group: FeatureGroup(tuple([w[i].isascii(), t])) | feats: 44\n",
      "feat_group: FeatureGroup(tuple([w[i].isdecimal(), t])) | feats: 45\n",
      "feat_group: FeatureGroup(tuple([w[i].isdigit(), t])) | feats: 45\n",
      "feat_group: FeatureGroup(tuple([w[i].islower(), t])) | feats: 75\n",
      "feat_group: FeatureGroup(tuple([w[i].isnumeric(), t])) | feats: 45\n",
      "feat_group: FeatureGroup(tuple([w[i].istitle(), t])) | feats: 76\n",
      "feat_group: FeatureGroup(tuple([w[i].isupper(), t])) | feats: 56\n",
      "feat_group: FeatureGroup(tuple([len(w[i]) == 1, t])) | feats: 56\n",
      "feat_group: FeatureGroup(tuple([len(w[i]) == 2, t])) | feats: 66\n",
      "feat_group: FeatureGroup(tuple([len(w[i]) == 3, t])) | feats: 69\n",
      "feat_group: FeatureGroup(tuple([w[i][0].islower(), t])) | feats: 74\n",
      "feat_group: FeatureGroup(tuple([any(char.isdigit() for char in w[i]), t])) | feats: 49\n",
      "feat_group: FeatureGroup(tuple([any(char.isupper() for char in w[i]), t])) | feats: 75\n",
      "feat_groups: 22 | total_feats: 28289\n"
     ]
    }
   ],
   "source": [
    "for feat in feature_vector.feats:\n",
    "    print('feat_group:', feat, '| feats:', len(feat))\n",
    "print('feat_groups:', len(feature_vector.feats), '| total_feats:', len(feature_vector))"
   ]
  },
  {
   "cell_type": "code",
   "execution_count": 6,
   "metadata": {},
   "outputs": [],
   "source": [
    "# # test run train_dataset\n",
    "# tic = time.time()\n",
    "# for t2, t1, w, i, t in train_dataset:\n",
    "#     feat_vec_t = feature_vector(t2, t1, w, i, t, fmt='vec')\n",
    "# print('fmt=vec: {:.3f} sec'.format(time.time() - tic))\n",
    "\n",
    "# tic = time.time()\n",
    "# for t2, t1, w, i, t in train_dataset:\n",
    "#     feat_list_t = feature_vector(t2, t1, w, i, t, fmt='list')\n",
    "# print('fmt=list: {:.3f} sec'.format(time.time() - tic))\n",
    "\n",
    "# tic = time.time()\n",
    "# for t2, t1, w, i, t in train_dataset:\n",
    "#     feat_vec_t, feat_list_t = feature_vector(t2, t1, w, i, t, fmt='both')\n",
    "# print('fmt=vec+list: {:.3f} sec'.format(time.time() - tic))"
   ]
  },
  {
   "cell_type": "code",
   "execution_count": null,
   "metadata": {},
   "outputs": [],
   "source": [
    "# for tag in train1_statistics.words_per_tag:\n",
    "#     if len(train1_statistics.words_per_tag[tag]) < 10:\n",
    "#         print('{:5} tf: {:5d} unique_count: {:4d} words: {}'.format(tag, train1_statistics.tags_count[tag], len(train1_statistics.words_per_tag[tag]),\n",
    "#                                                                     train1_statistics.words_per_tag[tag]))\n",
    "#     else:\n",
    "#         print('{:5} tf: {:5d} unique_count: {:4d}'.format(tag, train1_statistics.tags_count[tag], len(train1_statistics.words_per_tag[tag])))"
   ]
  },
  {
   "cell_type": "code",
   "execution_count": null,
   "metadata": {},
   "outputs": [],
   "source": [
    "# features = []\n",
    "\n",
    "# # one-to-one features\n",
    "# for word in strange_words:\n",
    "#     features.append(Feature(f'w[i] == \"{word}\"', t=train1_model.tags_per_word[word][0]))\n",
    "#     print(word, train1_model.WordCount[word], train1_model.TagsPerWord[word])"
   ]
  },
  {
   "cell_type": "code",
   "execution_count": null,
   "metadata": {},
   "outputs": [],
   "source": []
  }
 ],
 "metadata": {
  "kernelspec": {
   "display_name": "nlp_hw1",
   "language": "python",
   "name": "nlp_hw1"
  },
  "language_info": {
   "codemirror_mode": {
    "name": "ipython",
    "version": 3
   },
   "file_extension": ".py",
   "mimetype": "text/x-python",
   "name": "python",
   "nbconvert_exporter": "python",
   "pygments_lexer": "ipython3",
   "version": "3.7.4"
  }
 },
 "nbformat": 4,
 "nbformat_minor": 4
}
