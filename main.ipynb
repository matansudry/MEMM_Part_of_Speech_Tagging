{
 "cells": [
  {
   "cell_type": "code",
   "execution_count": 1,
   "metadata": {},
   "outputs": [],
   "source": [
    "import time\n",
    "import numpy as np\n",
    "import pandas as pd\n",
    "from tqdm import tqdm\n",
    "from utils import preprocess, features, classifier, metrics, logging"
   ]
  },
  {
   "cell_type": "code",
   "execution_count": 2,
   "metadata": {},
   "outputs": [],
   "source": [
    "seed = 42\n",
    "np.random.seed(seed)\n",
    "\n",
    "models_path = 'models'  # folder of models\n",
    "log_path = 'log'  # folder of log.csv\n",
    "logger = logging.Logger(log_path)  # init logger to log.csv\n",
    "# logger.init_log()"
   ]
  },
  {
   "cell_type": "code",
   "execution_count": null,
   "metadata": {},
   "outputs": [],
   "source": [
    "def load_datasets():\n",
    "    test1_path = 'data/test1.wtag'\n",
    "    train1_path = 'data/train1.wtag'\n",
    "    train2_path = 'data/train2.wtag'\n",
    "    comp1_path = 'data/comp1_tagged.words'  # need to tag dataset to use\n",
    "    comp2_path = 'data/comp2_tagged.words'  # need to tag dataset to use\n",
    "\n",
    "    train_dataset = preprocess.Dataset(train1_path)\n",
    "#     train_dataset = preprocess.Dataset(train2_path)\n",
    "    val_dataset = preprocess.Dataset(test1_path)\n",
    "#     val_dataset = preprocess.Dataset(comp1_path)\n",
    "#     val_dataset = preprocess.Dataset(comp2_path)\n",
    "    return train_dataset, val_dataset\n",
    "\n",
    "def comp_dataset(tags):\n",
    "    comp1_path = 'data/comp1.words'\n",
    "    comp2_path = 'data/comp2.words'\n",
    "    \n",
    "    comp_dataset = preprocess.Dataset(comp1_path, labeled=False, tags=tags)\n",
    "#     comp_dataset = preprocess.Dataset(comp2_path, labeled=False, tags=tags)\n",
    "    return comp_dataset\n",
    "\n",
    "train_dataset, val_dataset = load_datasets()\n",
    "# comp_dataset = comp_dataset(train_dataset.tags)"
   ]
  },
  {
   "cell_type": "code",
   "execution_count": null,
   "metadata": {},
   "outputs": [],
   "source": [
    "def create_feats(prints=True):\n",
    "    group_thresholds = {\n",
    "        # -------------------------------- feature --------------------- | -- Threshold --\n",
    "        lambda t2, t1, w, i, t: tuple([w[i].lower(), t]):                         0,     # mandatory feature f100\n",
    "        lambda t2, t1, w, i, t: tuple([w[i][-4:].lower(), t]):                    5,     # mandatory feature f101\n",
    "        lambda t2, t1, w, i, t: tuple([w[i][-3:].lower(), t]):                    5,     # mandatory feature f101\n",
    "        lambda t2, t1, w, i, t: tuple([w[i][-2:].lower(), t]):                    5,     # mandatory feature f101\n",
    "        lambda t2, t1, w, i, t: tuple([w[i][-1:].lower(), t]):                    5,     # mandatory feature f101\n",
    "        lambda t2, t1, w, i, t: tuple([w[i][:4].lower(), t]):                     5,     # mandatory feature f102\n",
    "        lambda t2, t1, w, i, t: tuple([w[i][:3].lower(), t]):                     5,     # mandatory feature f102\n",
    "        lambda t2, t1, w, i, t: tuple([w[i][:2].lower(), t]):                     5,     # mandatory feature f102\n",
    "        lambda t2, t1, w, i, t: tuple([w[i][:1].lower(), t]):                     5,     # mandatory feature f102\n",
    "        lambda t2, t1, w, i, t: tuple([t2, t1, t]):                               1,     # mandatory feature f103\n",
    "        lambda t2, t1, w, i, t: tuple([t1, t]):                                   1,     # mandatory feature f104\n",
    "        lambda t2, t1, w, i, t: tuple([t]):                                       1,     # mandatory feature f105\n",
    "        lambda t2, t1, w, i, t: tuple([w[i].islower(), t]):                       1,     # mandatory feature has_uppercase\n",
    "        lambda t2, t1, w, i, t: tuple([any(char.isdigit() for char in w[i]), t]): 1,     # mandatory feature has_digits\n",
    "        lambda t2, t1, w, i, t: tuple([w[i-1].lower(), t]):                       20,\n",
    "        lambda t2, t1, w, i, t: tuple([w[i+1].lower(), t]):                       20,\n",
    "        lambda t2, t1, w, i, t: tuple([w[i+1][:3].lower(), t]):                   20,\n",
    "        lambda t2, t1, w, i, t: tuple([w[i-1][:3].lower(), t]):                   20,\n",
    "        lambda t2, t1, w, i, t: tuple([w[i+1][:2].lower(), t]):                   20,\n",
    "        lambda t2, t1, w, i, t: tuple([w[i-1][:2].lower(), t]):                   20,\n",
    "        lambda t2, t1, w, i, t: tuple([w[i+1][-3:].lower(), t]):                  20,\n",
    "        lambda t2, t1, w, i, t: tuple([w[i-1][-3:].lower(), t]):                  20,\n",
    "        lambda t2, t1, w, i, t: tuple([w[i+1][-2:].lower(), t]):                  20,\n",
    "        lambda t2, t1, w, i, t: tuple([w[i-1][-2:].lower(), t]):                  20,\n",
    "        lambda t2, t1, w, i, t: tuple([w[i].isalnum(), t]):                       1,\n",
    "        lambda t2, t1, w, i, t: tuple([w[i].isalpha(), t]):                       1,\n",
    "        lambda t2, t1, w, i, t: tuple([w[i].isascii(), t]):                       1,\n",
    "        lambda t2, t1, w, i, t: tuple([w[i].isdecimal(), t]):                     1,\n",
    "        lambda t2, t1, w, i, t: tuple([w[i].isdigit(), t]):                       1,\n",
    "        lambda t2, t1, w, i, t: tuple([w[i].isnumeric(), t]):                     1,\n",
    "        lambda t2, t1, w, i, t: tuple([w[i].istitle(), t]):                       1,\n",
    "        lambda t2, t1, w, i, t: tuple([w[i].isupper(), t]):                       1,\n",
    "        lambda t2, t1, w, i, t: tuple([len(w[i]) == 1, t]):                       1,\n",
    "        lambda t2, t1, w, i, t: tuple([len(w[i]) == 2, t]):                       1,\n",
    "        lambda t2, t1, w, i, t: tuple([len(w[i]) == 3, t]):                       1,\n",
    "    }\n",
    "\n",
    "    tic = time.time()\n",
    "    feature_vector = features.create_feature_vector(dataset=train_dataset,\n",
    "                                                    group_thresholds=group_thresholds,\n",
    "                                                    pruning=True,\n",
    "                                                    get_stats=False,\n",
    "                                                    assertions=True,\n",
    "                                                    calls_counter=False)\n",
    "\n",
    "    if prints:\n",
    "        print('feature_vector creation time:', time.time() - tic, 'sec\\n')\n",
    "        for feat in feature_vector.feats:\n",
    "            print('feat_group:', feat, '| feats:', len(feat))\n",
    "    print('feat_groups:', len(feature_vector.feats), '| total_feats:', len(feature_vector))\n",
    "    return feature_vector\n",
    "\n",
    "feature_vector = create_feats(prints=False)"
   ]
  },
  {
   "cell_type": "code",
   "execution_count": null,
   "metadata": {},
   "outputs": [],
   "source": [
    "def init_w0():\n",
    "    w0 = np.random.randn(len(feature_vector))*np.sqrt(1/len(feature_vector))  # xavier initialization\n",
    "#     w0 = np.zeros(len(feature_vector)).astype(np.float32)  # init weights to zero\n",
    "#     # perform data-aware initialization\n",
    "#     for h in train_dataset:\n",
    "#         w0 += feature_vector(*h, fmt='vec')\n",
    "#     w0 /= len(train_dataset.sentences)\n",
    "#     w0 -= w0.mean()  # center\n",
    "#     w0 /= w0.std()  # normalize\n",
    "    return w0\n",
    "\n",
    "w0 = init_w0()"
   ]
  },
  {
   "cell_type": "code",
   "execution_count": null,
   "metadata": {},
   "outputs": [],
   "source": [
    "versions = 3\n",
    "load = False  # load last weights, log and feature_vector into model\n",
    "\n",
    "train = True  # perform a training session\n",
    "train_save = True  # save model after each training epoch, if False model will need to be saved manually\n",
    "beam = 1  # viterbi beam size for model evaluation during training\n",
    "train_aprox = 0  # aproximate train_score with first train_aprox train samples\n",
    "val_aprox = 50  # aproximate val_score with first val_aprox train samples \n",
    "# weight_decay = 0.0  # lamda regularization parameter\n",
    "# batch_size = 256  # batch_size for loader\n",
    "# epochs = 20  # training epochs\n",
    "tqdm_bar = False  # display tqdm progress bars\n",
    "description = \"xavier init, feat_groups: 35 | total_feats: 42783\"\n",
    "\n",
    "experiments = [\n",
    "    {'weight_decay': 0.0, 'batch_size': 256, 'epochs': 15},\n",
    "    {'weight_decay': 1e-4, 'batch_size': 256, 'epochs': 15},\n",
    "    {'weight_decay': 1e-2, 'batch_size': 256, 'epochs': 15},\n",
    "    {'weight_decay': 1e-1, 'batch_size': 256, 'epochs': 15},\n",
    "    {'weight_decay': 1, 'batch_size': 256, 'epochs': 15},\n",
    "    {'weight_decay': 10, 'batch_size': 256, 'epochs': 15},\n",
    "    {'weight_decay': 100, 'batch_size': 256, 'epochs': 15},\n",
    "]\n",
    "\n",
    "for i, experiment in enumerate(experiments):\n",
    "    model = classifier.Model(version=versions + i + 1,\n",
    "                             w0=w0,\n",
    "                             tags=train_dataset.tags,\n",
    "                             inference=classifier.viterbi,\n",
    "                             feature_vector=feature_vector,\n",
    "                             score_func=metrics.accuracy,\n",
    "                             models_path=models_path,\n",
    "                             save=False)\n",
    "\n",
    "    v_min, f_min, d_min = model.train(epochs=experiment['epochs'],\n",
    "                                      train_dataset=train_dataset,\n",
    "                                      val_dataset=val_dataset,\n",
    "                                      batch_size=experiment['batch_size'],\n",
    "                                      weight_decay=experiment['weight_decay'],\n",
    "                                      save=train_save,\n",
    "                                      tqdm_bar=tqdm_bar,\n",
    "                                      beam=beam,\n",
    "                                      train_aprox=train_aprox,\n",
    "                                      val_aprox=val_aprox)\n",
    "    \n",
    "    logger.log(model, init_w0, create_feats, load_datasets, description)"
   ]
  },
  {
   "cell_type": "code",
   "execution_count": null,
   "metadata": {},
   "outputs": [],
   "source": [
    "leadboard = logger.leadboard(col='')\n",
    "display(leadboard)\n",
    "# print(leadboard['init'][0])"
   ]
  },
  {
   "cell_type": "code",
   "execution_count": null,
   "metadata": {},
   "outputs": [],
   "source": [
    "aprox_num = 50  # max samples to aproximate score\n",
    "predict_beam = 1  # viterbi beam size\n",
    "display_all = False\n",
    "\n",
    "pred_tags = []\n",
    "true_tags = []\n",
    "pbar = tqdm(val_dataset.sentences[:aprox_num])\n",
    "for sentence in pbar:\n",
    "    preds = model(sentence[0], predict_beam)\n",
    "    pred_tags.append(preds)\n",
    "    true_tags.append(sentence[1])\n",
    "    \n",
    "    if display_all:\n",
    "        display(pd.DataFrame((sentence[0], sentence[1], preds), index=('words', 'tags', 'preds')))\n",
    "    pbar.set_postfix(acc=model.score_func(pred_tags, true_tags), refresh=False)\n",
    "    \n",
    "matrix, worst = metrics.confusion_matrix(train_dataset.tags, pred_tags, true_tags)\n",
    "display(worst)\n",
    "\n",
    "# model.val_predictions = pred_tags\n",
    "# model.val_sentences = val_dataset.sentences\n",
    "# model.save()"
   ]
  },
  {
   "cell_type": "code",
   "execution_count": null,
   "metadata": {},
   "outputs": [],
   "source": []
  },
  {
   "cell_type": "code",
   "execution_count": null,
   "metadata": {},
   "outputs": [],
   "source": []
  },
  {
   "cell_type": "markdown",
   "metadata": {},
   "source": [
    "### Code that may be useful"
   ]
  },
  {
   "cell_type": "code",
   "execution_count": null,
   "metadata": {},
   "outputs": [],
   "source": [
    "# sentences = {}\n",
    "# for sentence in train_dataset.sentences:\n",
    "#     sentences[len(sentence[0])] = sentence"
   ]
  },
  {
   "cell_type": "code",
   "execution_count": null,
   "metadata": {},
   "outputs": [],
   "source": [
    "# %%time\n",
    "# sample_sentence = (['Terms', 'were', \"n't\", 'disclosed', '.'],  # sentence words\n",
    "#                    ['NNS',   'VBD',  'RB',  'VBN',       '.'])  # sentence true tags\n",
    "# predict_beam = 100  # viterbi beam size\n",
    "\n",
    "# tags, bp_pi = viterbi(model, sample_sentence[0], beam=predict_beam)\n",
    "# print('sentence ', sample_sentence[0])\n",
    "# print('true tags', sample_sentence[1])\n",
    "# print('pred tags', tags)\n",
    "# print()"
   ]
  },
  {
   "cell_type": "code",
   "execution_count": null,
   "metadata": {},
   "outputs": [],
   "source": [
    "# %%time\n",
    "# sum_vec = np.zeros(len(feature_vector)).astype(np.float32)\n",
    "# sum_inds = 0\n",
    "# for t2, t1, w, i, t in train_dataset:\n",
    "#     try:\n",
    "#         vec = feature_vector(t2, t1, w, i, t, fmt='vec')\n",
    "#     except Exception as e:\n",
    "#         print(t2, t1, w, i, t)\n",
    "#         raise e\n",
    "#     sum_vec += vec\n",
    "#     sum_inds += (vec).sum()\n",
    "\n",
    "# df = pd.DataFrame(sum_vec, columns=['feat']).astype({'feat': int}).sort_values('feat', ascending=False)\n",
    "# print(sum_vec.sum())\n",
    "# print(sum_inds/len(train_dataset.sentences))\n",
    "# display(df)"
   ]
  },
  {
   "cell_type": "code",
   "execution_count": null,
   "metadata": {},
   "outputs": [],
   "source": [
    "# feat, key = feature_vector.invert_feat(33249)  # 41453 22811\n",
    "# print(feat)\n",
    "# print(key)\n",
    "# print(feat.hash_calls[key])"
   ]
  },
  {
   "cell_type": "code",
   "execution_count": null,
   "metadata": {},
   "outputs": [],
   "source": [
    "# # test run train_dataset\n",
    "# tic = time.time()\n",
    "# for t2, t1, w, i, t in train_dataset:\n",
    "#     feat_vec_t = feature_vector(t2, t1, w, i, t, fmt='vec')\n",
    "# print('fmt=vec: {:.3f} sec'.format(time.time() - tic))\n",
    "\n",
    "# tic = time.time()\n",
    "# for t2, t1, w, i, t in train_dataset:\n",
    "#     feat_list_t = feature_vector(t2, t1, w, i, t, fmt='list')\n",
    "# print('fmt=list: {:.3f} sec'.format(time.time() - tic))\n",
    "\n",
    "# tic = time.time()\n",
    "# for t2, t1, w, i, t in train_dataset:\n",
    "#     feat_vec_t, feat_list_t = feature_vector(t2, t1, w, i, t, fmt='both')\n",
    "# print('fmt=vec+list: {:.3f} sec'.format(time.time() - tic))"
   ]
  },
  {
   "cell_type": "code",
   "execution_count": null,
   "metadata": {},
   "outputs": [],
   "source": [
    "# for tag in train1_statistics.words_per_tag:\n",
    "#     if len(train1_statistics.words_per_tag[tag]) < 10:\n",
    "#         print('{:5} tf: {:5d} unique_count: {:4d} words: {}'.format(tag, train1_statistics.tags_count[tag], len(train1_statistics.words_per_tag[tag]),\n",
    "#                                                                     train1_statistics.words_per_tag[tag]))\n",
    "#     else:\n",
    "#         print('{:5} tf: {:5d} unique_count: {:4d}'.format(tag, train1_statistics.tags_count[tag], len(train1_statistics.words_per_tag[tag])))"
   ]
  },
  {
   "cell_type": "code",
   "execution_count": null,
   "metadata": {},
   "outputs": [],
   "source": [
    "# features = []\n",
    "\n",
    "# # one-to-one features\n",
    "# for word in strange_words:\n",
    "#     features.append(Feature(f'w[i] == \"{word}\"', t=train1_model.tags_per_word[word][0]))\n",
    "#     print(word, train1_model.WordCount[word], train1_model.TagsPerWord[word])"
   ]
  },
  {
   "cell_type": "code",
   "execution_count": null,
   "metadata": {},
   "outputs": [],
   "source": []
  },
  {
   "cell_type": "code",
   "execution_count": null,
   "metadata": {},
   "outputs": [],
   "source": []
  },
  {
   "cell_type": "code",
   "execution_count": null,
   "metadata": {},
   "outputs": [],
   "source": []
  },
  {
   "cell_type": "code",
   "execution_count": null,
   "metadata": {},
   "outputs": [],
   "source": []
  }
 ],
 "metadata": {
  "kernelspec": {
   "display_name": "nlp_hw1",
   "language": "python",
   "name": "nlp_hw1"
  },
  "language_info": {
   "codemirror_mode": {
    "name": "ipython",
    "version": 3
   },
   "file_extension": ".py",
   "mimetype": "text/x-python",
   "name": "python",
   "nbconvert_exporter": "python",
   "pygments_lexer": "ipython3",
   "version": "3.7.4"
  }
 },
 "nbformat": 4,
 "nbformat_minor": 4
}
